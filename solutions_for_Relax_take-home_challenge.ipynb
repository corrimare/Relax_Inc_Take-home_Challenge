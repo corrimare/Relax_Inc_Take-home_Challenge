{
 "cells": [
  {
   "cell_type": "markdown",
   "id": "bizarre-surprise",
   "metadata": {},
   "source": [
    "## <center> Solutions for Relax Inc. Take-home Challenge <center>"
   ]
  },
  {
   "cell_type": "code",
   "execution_count": 239,
   "id": "coupled-creativity",
   "metadata": {},
   "outputs": [],
   "source": [
    "######################\n",
    "# Importing packages\n",
    "######################\n",
    "import pandas as pd\n",
    "import numpy as np\n",
    "import seaborn as sns\n",
    "import matplotlib.pyplot as plt\n",
    "from datetime import datetime, timedelta\n",
    "import timedelta\n",
    "from pandas.plotting import scatter_matrix\n",
    "from sklearn.preprocessing import MinMaxScaler\n",
    "from sklearn.model_selection import train_test_split, KFold\n",
    "import random\n",
    "from sklearn.metrics import accuracy_score, classification_report, confusion_matrix, roc_auc_score, roc_curve\n",
    "from tqdm import tqdm\n",
    "import xgboost as xgb\n",
    "import warnings\n",
    "warnings.filterwarnings('ignore')"
   ]
  },
  {
   "cell_type": "markdown",
   "id": "3d839ee6",
   "metadata": {},
   "source": [
    "### 1. Data wrangling"
   ]
  },
  {
   "cell_type": "code",
   "execution_count": 240,
   "id": "94338a5e",
   "metadata": {},
   "outputs": [],
   "source": [
    "##################################\n",
    "# Load two tables from csv files\n",
    "##################################\n",
    "user0=pd.read_csv('takehome_users.csv')\n",
    "usage_summary0=pd.read_csv('takehome_user_engagement.csv')"
   ]
  },
  {
   "cell_type": "code",
   "execution_count": 241,
   "id": "66c24be9",
   "metadata": {},
   "outputs": [],
   "source": [
    "######################################################\n",
    "# Clean and wrangle data\n",
    "# For invited by user id, impute 0 for unknown users\n",
    "######################################################\n",
    "user1=user0[['object_id']]\n",
    "user1['creation_time']=user0['creation_time'].apply(pd.to_datetime)\n",
    "user1['creation_source']=user0['creation_source']\n",
    "user1['last_session_creation_time']=user0['last_session_creation_time'].apply(\n",
    "    lambda x: pd.to_datetime(datetime.fromtimestamp(x)) if not np.isnan(x) else np.nan)\n",
    "for i in range(6, 9):\n",
    "    user1[user0.columns[i]]=user0.iloc[:, i]\n",
    "user1['invited_by_user_id']=user0['invited_by_user_id'].fillna(0).apply(lambda x: int(x))\n",
    "usage_summary=usage_summary0[['user_id']]\n",
    "usage_summary['time_stamp']=usage_summary0['time_stamp'].apply(pd.to_datetime)"
   ]
  },
  {
   "cell_type": "code",
   "execution_count": 242,
   "id": "2f7167f9",
   "metadata": {},
   "outputs": [],
   "source": [
    "####################################################################\n",
    "# Impute the missing last session creation time with creation time\n",
    "####################################################################\n",
    "user1.last_session_creation_time[user1.last_session_creation_time.isnull()]=user1.creation_time"
   ]
  },
  {
   "cell_type": "code",
   "execution_count": 243,
   "id": "ea59d4ed",
   "metadata": {},
   "outputs": [],
   "source": [
    "####################################################################\n",
    "# Define \"adopted user\" as a user who has logged into the product\n",
    "# on three separate days in at least one seven-day period.\n",
    "# This is the dependent variable\n",
    "####################################################################\n",
    "def is_adopted_user(timestamp_list):\n",
    "    \"\"\"Tell if a user is adopted user.\"\"\"\n",
    "    from datetime import timedelta\n",
    "    timestamp_list_sorted=sorted(timestamp_list)\n",
    "    if len(timestamp_list_sorted)<3:\n",
    "        return 0\n",
    "    else:\n",
    "        for i in range(len(timestamp_list_sorted)-2):\n",
    "            first_login_date=pd.to_datetime(timestamp_list_sorted[i].strftime('%Y-%m-%d'))\n",
    "            third_login_time=timestamp_list_sorted[i+2]\n",
    "            end_of_seven_day_period=first_login_date+timedelta(days=7)\n",
    "            if third_login_time<end_of_seven_day_period:\n",
    "                return 1\n",
    "    return 0\n",
    "######################################################################"
   ]
  },
  {
   "cell_type": "code",
   "execution_count": 244,
   "id": "d0f1374c",
   "metadata": {},
   "outputs": [],
   "source": [
    "adopted=usage_summary.groupby(by=['user_id']).agg(is_adopted_user).rename(columns={'time_stamp': 'adopted'})"
   ]
  },
  {
   "cell_type": "code",
   "execution_count": 245,
   "id": "b895e629",
   "metadata": {},
   "outputs": [],
   "source": [
    "####################################################\n",
    "# Join the adopted column to the user data frame\n",
    "# Fill NaN with 0\n",
    "####################################################\n",
    "user2=user1.set_index('object_id')\n",
    "user2=user2.rename_axis('user_id')\n",
    "user3=user2.join(adopted, how='left').fillna(0)\n",
    "user=user3.copy()\n",
    "user.adopted=user3.adopted.astype('int64')"
   ]
  },
  {
   "cell_type": "code",
   "execution_count": 246,
   "id": "6bd2b462",
   "metadata": {},
   "outputs": [
    {
     "name": "stdout",
     "output_type": "stream",
     "text": [
      "<class 'pandas.core.frame.DataFrame'>\n",
      "Int64Index: 12000 entries, 1 to 12000\n",
      "Data columns (total 8 columns):\n",
      " #   Column                      Non-Null Count  Dtype         \n",
      "---  ------                      --------------  -----         \n",
      " 0   creation_time               12000 non-null  datetime64[ns]\n",
      " 1   creation_source             12000 non-null  object        \n",
      " 2   last_session_creation_time  12000 non-null  datetime64[ns]\n",
      " 3   opted_in_to_mailing_list    12000 non-null  int64         \n",
      " 4   enabled_for_marketing_drip  12000 non-null  int64         \n",
      " 5   org_id                      12000 non-null  int64         \n",
      " 6   invited_by_user_id          12000 non-null  int64         \n",
      " 7   adopted                     12000 non-null  int64         \n",
      "dtypes: datetime64[ns](2), int64(5), object(1)\n",
      "memory usage: 1.1+ MB\n"
     ]
    }
   ],
   "source": [
    "##################################\n",
    "# Data types are good\n",
    "##################################\n",
    "user.info()"
   ]
  },
  {
   "cell_type": "code",
   "execution_count": 247,
   "id": "0321ad51",
   "metadata": {},
   "outputs": [
    {
     "data": {
      "text/plain": [
       "creation_time                 0\n",
       "creation_source               0\n",
       "last_session_creation_time    0\n",
       "opted_in_to_mailing_list      0\n",
       "enabled_for_marketing_drip    0\n",
       "org_id                        0\n",
       "invited_by_user_id            0\n",
       "adopted                       0\n",
       "dtype: int64"
      ]
     },
     "execution_count": 247,
     "metadata": {},
     "output_type": "execute_result"
    }
   ],
   "source": [
    "#######################################\n",
    "# There is no missing data\n",
    "#######################################\n",
    "user.isnull().sum()"
   ]
  },
  {
   "cell_type": "markdown",
   "id": "f12c6bc0",
   "metadata": {},
   "source": [
    "### 2. Feature Engineering"
   ]
  },
  {
   "cell_type": "code",
   "execution_count": 248,
   "id": "83dea675",
   "metadata": {},
   "outputs": [],
   "source": [
    "##################################################\n",
    "# Extract features for modeling \n",
    "# (start categorical)\n",
    "##################################################\n",
    "# Creation source one-hot encoding\n",
    "##################################################\n",
    "y=user['adopted']\n",
    "X=pd.get_dummies(user[['creation_source']])\n",
    "##################################################\n",
    "# Copy mailing list and marketing drip columns\n",
    "##################################################\n",
    "X['opted_in_to_mailing_list']=user['opted_in_to_mailing_list']\n",
    "X['enabled_for_marketing_drip']=user['enabled_for_marketing_drip']\n",
    "######################################################################\n",
    "# The group each user belongs to\n",
    "######################################################################\n",
    "group=pd.get_dummies(user[['org_id']].astype('category'))\n",
    "X=X.join(group, how='left')\n",
    "######################################################################\n",
    "# The invite user each user was invited\n",
    "######################################################################\n",
    "invite_user=pd.get_dummies(user[['invited_by_user_id']].astype('category'))\n",
    "X=X.join(invite_user, how='left')\n",
    "######################################################################\n",
    "# If users are inviters\n",
    "######################################################################\n",
    "inviters=set([ele[0] for ele in user[['invited_by_user_id']].values.tolist()])\n",
    "X['is_inviter']=0\n",
    "for single_user in user.index:\n",
    "    if single_user in inviters:\n",
    "        X.loc[single_user, 'is_inviter']=1\n",
    "######################################################################\n",
    "# The size of the group each user belongs to \n",
    "# (start numerical)\n",
    "######################################################################\n",
    "group_size=user[['org_id']].value_counts()\n",
    "X['org_size']=user['org_id'].apply(lambda x: group_size[x])\n",
    "##################################################\n",
    "# days between creation and last session\n",
    "##################################################\n",
    "import timedelta\n",
    "X['days_between_creation_and_last_session']=0\n",
    "for index in X.index:\n",
    "    days=timedelta.Timedelta(user.loc[index, 'last_session_creation_time']-user.loc[index, 'creation_time']).days\n",
    "    if days<0:\n",
    "        days=0\n",
    "    X.loc[index, 'days_between_creation_and_last_session']=days\n",
    "######################################################################\n",
    "# The number of invitation of the user sent who invited this user\n",
    "# meaning if this person was invited by a very active and popular user\n",
    "# If this user was not invited by anyone, impute zero\n",
    "######################################################################\n",
    "number_of_invitation=user[['invited_by_user_id']].value_counts()\n",
    "number_of_invitation.loc[0]=0\n",
    "X['inviter_activity']=user['invited_by_user_id'].apply(lambda x: number_of_invitation[x])\n",
    "######################################################################\n",
    "# The number of login for each user\n",
    "######################################################################\n",
    "number_of_login0=usage_summary.groupby(by=['user_id']).count().rename(columns={'time_stamp':'number_of_login'})\n",
    "number_of_login1=X[['creation_source_GUEST_INVITE']].join(number_of_login0, how='left')\n",
    "number_of_login=number_of_login1.drop(columns=['creation_source_GUEST_INVITE']).fillna(0)\n",
    "X['number_of_login']=number_of_login\n",
    "######################################################################"
   ]
  },
  {
   "cell_type": "code",
   "execution_count": 249,
   "id": "f7a333de",
   "metadata": {},
   "outputs": [],
   "source": [
    "################################################\n",
    "# Perform Min Max Scaling for features\n",
    "################################################\n",
    "scaler=MinMaxScaler(feature_range=(0, 1))\n",
    "scaled_X=X.iloc[:, :X.columns.get_loc('org_size')]\n",
    "for i in range(X.columns.get_loc('org_size'), X.shape[1]):\n",
    "    scaled_X[X.columns[i]]=[ele2[0] for ele2 in scaler.fit_transform([[ele] for ele in X.iloc[:, i]])]"
   ]
  },
  {
   "cell_type": "code",
   "execution_count": 250,
   "id": "0286ed00",
   "metadata": {},
   "outputs": [
    {
     "data": {
      "text/html": [
       "<div>\n",
       "<style scoped>\n",
       "    .dataframe tbody tr th:only-of-type {\n",
       "        vertical-align: middle;\n",
       "    }\n",
       "\n",
       "    .dataframe tbody tr th {\n",
       "        vertical-align: top;\n",
       "    }\n",
       "\n",
       "    .dataframe thead th {\n",
       "        text-align: right;\n",
       "    }\n",
       "</style>\n",
       "<table border=\"1\" class=\"dataframe\">\n",
       "  <thead>\n",
       "    <tr style=\"text-align: right;\">\n",
       "      <th></th>\n",
       "      <th>features</th>\n",
       "    </tr>\n",
       "  </thead>\n",
       "  <tbody>\n",
       "    <tr>\n",
       "      <th>0</th>\n",
       "      <td>creation_source_GUEST_INVITE</td>\n",
       "    </tr>\n",
       "    <tr>\n",
       "      <th>1</th>\n",
       "      <td>creation_source_ORG_INVITE</td>\n",
       "    </tr>\n",
       "    <tr>\n",
       "      <th>2</th>\n",
       "      <td>creation_source_PERSONAL_PROJECTS</td>\n",
       "    </tr>\n",
       "    <tr>\n",
       "      <th>3</th>\n",
       "      <td>creation_source_SIGNUP</td>\n",
       "    </tr>\n",
       "    <tr>\n",
       "      <th>4</th>\n",
       "      <td>creation_source_SIGNUP_GOOGLE_AUTH</td>\n",
       "    </tr>\n",
       "    <tr>\n",
       "      <th>...</th>\n",
       "      <td>...</td>\n",
       "    </tr>\n",
       "    <tr>\n",
       "      <th>2989</th>\n",
       "      <td>is_inviter</td>\n",
       "    </tr>\n",
       "    <tr>\n",
       "      <th>2990</th>\n",
       "      <td>org_size</td>\n",
       "    </tr>\n",
       "    <tr>\n",
       "      <th>2991</th>\n",
       "      <td>days_between_creation_and_last_session</td>\n",
       "    </tr>\n",
       "    <tr>\n",
       "      <th>2992</th>\n",
       "      <td>inviter_activity</td>\n",
       "    </tr>\n",
       "    <tr>\n",
       "      <th>2993</th>\n",
       "      <td>number_of_login</td>\n",
       "    </tr>\n",
       "  </tbody>\n",
       "</table>\n",
       "<p>2994 rows × 1 columns</p>\n",
       "</div>"
      ],
      "text/plain": [
       "                                    features\n",
       "0               creation_source_GUEST_INVITE\n",
       "1                 creation_source_ORG_INVITE\n",
       "2          creation_source_PERSONAL_PROJECTS\n",
       "3                     creation_source_SIGNUP\n",
       "4         creation_source_SIGNUP_GOOGLE_AUTH\n",
       "...                                      ...\n",
       "2989                              is_inviter\n",
       "2990                                org_size\n",
       "2991  days_between_creation_and_last_session\n",
       "2992                        inviter_activity\n",
       "2993                         number_of_login\n",
       "\n",
       "[2994 rows x 1 columns]"
      ]
     },
     "execution_count": 250,
     "metadata": {},
     "output_type": "execute_result"
    }
   ],
   "source": [
    "###############################\n",
    "# List of features\n",
    "###############################\n",
    "pd.DataFrame({'features': list(scaled_X.columns)})"
   ]
  },
  {
   "cell_type": "markdown",
   "id": "593b32cb",
   "metadata": {},
   "source": [
    "### 3. Modeling by XGBoost"
   ]
  },
  {
   "cell_type": "markdown",
   "id": "001755cc",
   "metadata": {},
   "source": [
    "Obviously the data set has an imbalanced class problem: the adopted users are much less than the non-adopted users. I use ROC AUC score as the metric for the classification problem."
   ]
  },
  {
   "cell_type": "code",
   "execution_count": 251,
   "id": "21f3ae0c",
   "metadata": {},
   "outputs": [
    {
     "name": "stdout",
     "output_type": "stream",
     "text": [
      "The ratio of adopted users is 13.35%\n"
     ]
    }
   ],
   "source": [
    "print('The ratio of adopted users is {:.2f}%'.format(y.sum()/len(y)*100))"
   ]
  },
  {
   "cell_type": "markdown",
   "id": "2ccabddd",
   "metadata": {},
   "source": [
    "In order to address the imbalance class problem, I perform under sampling to balance the two classes."
   ]
  },
  {
   "cell_type": "code",
   "execution_count": 252,
   "id": "c68a7478",
   "metadata": {},
   "outputs": [],
   "source": [
    "data0=scaled_X.join(y, how='left')\n",
    "data1=data0[data0['adopted']==1]\n",
    "data=data1.append(data0[data0['adopted']==0].sample(data1.shape[0])).sample(frac=1)"
   ]
  },
  {
   "cell_type": "code",
   "execution_count": 253,
   "id": "668b77b4",
   "metadata": {},
   "outputs": [],
   "source": [
    "############################################################\n",
    "# Train test split by 70:30\n",
    "# Save clean data\n",
    "############################################################\n",
    "X_train, X_test, y_train, y_test=train_test_split(data.drop(columns=['adopted']), data.adopted, test_size=0.3)\n",
    "kfold=KFold(n_splits=5, shuffle=True, random_state=37)"
   ]
  },
  {
   "cell_type": "code",
   "execution_count": 254,
   "id": "382f5c1e",
   "metadata": {},
   "outputs": [
    {
     "data": {
      "text/plain": [
       "294"
      ]
     },
     "execution_count": 254,
     "metadata": {},
     "output_type": "execute_result"
    }
   ],
   "source": [
    "################################################################################\n",
    "# Hyperparameter tuning for XGBoost model \n",
    "################################################################################\n",
    "random.seed(9)\n",
    "params=list(set([(\n",
    "    random.sample([0.005, 0.01, 0.05, 0.1, 1, 10, 25, 50, 75, 100], 1)[0], # learning_rate \n",
    "    random.sample([10, 50, 100, 200, 500, 1000, 2000, 5000, 10000], 1)[0], # n_estimators \n",
    "    random.sample([2, 3, 4, 5, 6, 8, 10, 100, 500, 1000, None], 1)[0], # max_depth\n",
    "    random.sample([0.005, 0.01, 0.05, 0.1, 0.25, 0.5, 0.75, 0.9, 1], 1)[0] # subsample\n",
    "    ) for i in range(300)]))\n",
    "len(params)"
   ]
  },
  {
   "cell_type": "code",
   "execution_count": 255,
   "id": "1383b817",
   "metadata": {},
   "outputs": [
    {
     "name": "stderr",
     "output_type": "stream",
     "text": [
      "100%|██████████| 294/294 [6:58:23<00:00, 85.39s/it]    \n"
     ]
    },
    {
     "data": {
      "text/html": [
       "<div>\n",
       "<style scoped>\n",
       "    .dataframe tbody tr th:only-of-type {\n",
       "        vertical-align: middle;\n",
       "    }\n",
       "\n",
       "    .dataframe tbody tr th {\n",
       "        vertical-align: top;\n",
       "    }\n",
       "\n",
       "    .dataframe thead th {\n",
       "        text-align: right;\n",
       "    }\n",
       "</style>\n",
       "<table border=\"1\" class=\"dataframe\">\n",
       "  <thead>\n",
       "    <tr style=\"text-align: right;\">\n",
       "      <th></th>\n",
       "      <th>params</th>\n",
       "      <th>accuracy</th>\n",
       "      <th>mean accuracy</th>\n",
       "    </tr>\n",
       "  </thead>\n",
       "  <tbody>\n",
       "    <tr>\n",
       "      <th>0</th>\n",
       "      <td>(0.01, 500, 3, 0.75)</td>\n",
       "      <td>[0.99, 0.99, 0.97, 0.98, 0.99]</td>\n",
       "      <td>0.983490</td>\n",
       "    </tr>\n",
       "    <tr>\n",
       "      <th>0</th>\n",
       "      <td>(0.01, 200, 5, 0.5)</td>\n",
       "      <td>[0.99, 0.99, 0.97, 0.98, 0.99]</td>\n",
       "      <td>0.982598</td>\n",
       "    </tr>\n",
       "    <tr>\n",
       "      <th>0</th>\n",
       "      <td>(0.005, 2000, 2, 0.9)</td>\n",
       "      <td>[0.99, 0.99, 0.97, 0.97, 0.99]</td>\n",
       "      <td>0.982597</td>\n",
       "    </tr>\n",
       "    <tr>\n",
       "      <th>0</th>\n",
       "      <td>(0.01, 200, 5, 0.9)</td>\n",
       "      <td>[0.99, 0.99, 0.97, 0.98, 0.98]</td>\n",
       "      <td>0.982151</td>\n",
       "    </tr>\n",
       "    <tr>\n",
       "      <th>0</th>\n",
       "      <td>(0.005, 200, 4, 0.9)</td>\n",
       "      <td>[0.99, 0.99, 0.97, 0.98, 0.98]</td>\n",
       "      <td>0.981705</td>\n",
       "    </tr>\n",
       "  </tbody>\n",
       "</table>\n",
       "</div>"
      ],
      "text/plain": [
       "                  params                        accuracy  mean accuracy\n",
       "0   (0.01, 500, 3, 0.75)  [0.99, 0.99, 0.97, 0.98, 0.99]       0.983490\n",
       "0    (0.01, 200, 5, 0.5)  [0.99, 0.99, 0.97, 0.98, 0.99]       0.982598\n",
       "0  (0.005, 2000, 2, 0.9)  [0.99, 0.99, 0.97, 0.97, 0.99]       0.982597\n",
       "0    (0.01, 200, 5, 0.9)  [0.99, 0.99, 0.97, 0.98, 0.98]       0.982151\n",
       "0   (0.005, 200, 4, 0.9)  [0.99, 0.99, 0.97, 0.98, 0.98]       0.981705"
      ]
     },
     "execution_count": 255,
     "metadata": {},
     "output_type": "execute_result"
    }
   ],
   "source": [
    "results=pd.DataFrame(columns=['params', 'accuracy', 'mean accuracy'])\n",
    "for param in tqdm(params):\n",
    "    try:\n",
    "        learning_rate, n_estimators, max_depth, subsample=param\n",
    "        accuracies=[]\n",
    "        for train_index, test_index in kfold.split(X_train):\n",
    "            X_train_train, X_train_test=X_train.iloc[train_index, :], X_train.iloc[test_index, :]\n",
    "            y_train_train, y_train_test=y_train.iloc[train_index], y_train.iloc[test_index]\n",
    "            model=xgb.XGBClassifier(objective='binary:logistic', \n",
    "                                learning_rate=learning_rate,\n",
    "                                n_estimators=n_estimators,\n",
    "                                max_depth=max_depth,\n",
    "                                subsample=subsample,\n",
    "                                verbosity=0)\n",
    "            model.fit(X_train_train, y_train_train)\n",
    "            y_pred=model.predict(X_train_test)\n",
    "            y_pred_prob=model.predict_proba(X_train_test)[:, 1]\n",
    "            accuracies.append(accuracy_score(y_train_test, y_pred))\n",
    "        results=results.append(pd.DataFrame({'params': [param], 'accuracy': [['{:.2f}'.format(ele) for ele in accuracies]], \n",
    "                               'mean accuracy': np.mean(accuracies)}))\n",
    "    except:\n",
    "        pass\n",
    "results.sort_values(by=['mean accuracy'], ascending=False).head()"
   ]
  },
  {
   "cell_type": "code",
   "execution_count": 256,
   "id": "61b0b9a7",
   "metadata": {},
   "outputs": [
    {
     "name": "stderr",
     "output_type": "stream",
     "text": [
      "100%|██████████| 30/30 [08:35<00:00, 17.17s/it]\n"
     ]
    },
    {
     "data": {
      "text/html": [
       "<div>\n",
       "<style scoped>\n",
       "    .dataframe tbody tr th:only-of-type {\n",
       "        vertical-align: middle;\n",
       "    }\n",
       "\n",
       "    .dataframe tbody tr th {\n",
       "        vertical-align: top;\n",
       "    }\n",
       "\n",
       "    .dataframe thead th {\n",
       "        text-align: right;\n",
       "    }\n",
       "</style>\n",
       "<table border=\"1\" class=\"dataframe\">\n",
       "  <thead>\n",
       "    <tr style=\"text-align: right;\">\n",
       "      <th></th>\n",
       "      <th>params</th>\n",
       "      <th>train mean accuracy</th>\n",
       "      <th>test accuracy</th>\n",
       "    </tr>\n",
       "  </thead>\n",
       "  <tbody>\n",
       "    <tr>\n",
       "      <th>18</th>\n",
       "      <td>(100, 10, 3, 1)</td>\n",
       "      <td>0.979923</td>\n",
       "      <td>0.979210</td>\n",
       "    </tr>\n",
       "    <tr>\n",
       "      <th>24</th>\n",
       "      <td>(0.005, 5000, 4, 0.75)</td>\n",
       "      <td>0.979917</td>\n",
       "      <td>0.978170</td>\n",
       "    </tr>\n",
       "    <tr>\n",
       "      <th>5</th>\n",
       "      <td>(0.005, 50, 4, 1)</td>\n",
       "      <td>0.981263</td>\n",
       "      <td>0.978170</td>\n",
       "    </tr>\n",
       "    <tr>\n",
       "      <th>16</th>\n",
       "      <td>(0.1, 200, 3, 0.75)</td>\n",
       "      <td>0.980363</td>\n",
       "      <td>0.978170</td>\n",
       "    </tr>\n",
       "    <tr>\n",
       "      <th>21</th>\n",
       "      <td>(0.1, 1000, 5, 0.5)</td>\n",
       "      <td>0.979921</td>\n",
       "      <td>0.977131</td>\n",
       "    </tr>\n",
       "  </tbody>\n",
       "</table>\n",
       "</div>"
      ],
      "text/plain": [
       "                    params  train mean accuracy  test accuracy\n",
       "18         (100, 10, 3, 1)             0.979923       0.979210\n",
       "24  (0.005, 5000, 4, 0.75)             0.979917       0.978170\n",
       "5        (0.005, 50, 4, 1)             0.981263       0.978170\n",
       "16     (0.1, 200, 3, 0.75)             0.980363       0.978170\n",
       "21     (0.1, 1000, 5, 0.5)             0.979921       0.977131"
      ]
     },
     "execution_count": 256,
     "metadata": {},
     "output_type": "execute_result"
    }
   ],
   "source": [
    "#########################################################\n",
    "# Select the best models which can generate on test data\n",
    "#########################################################\n",
    "results_sorted=results.sort_values(by=['mean accuracy'], ascending=False)[:30]\n",
    "test_results=pd.DataFrame(columns=['params', 'train mean accuracy', 'test accuracy'])\n",
    "index=0\n",
    "for param in tqdm(results_sorted['params']):\n",
    "    learning_rate, n_estimators, max_depth, subsample=param\n",
    "    model=xgb.XGBClassifier(objective='binary:logistic', \n",
    "                                    learning_rate=learning_rate,\n",
    "                                    n_estimators=n_estimators,\n",
    "                                    max_depth=max_depth,\n",
    "                                    subsample=subsample,\n",
    "                                    verbosity=0)\n",
    "    model.fit(X_train, y_train)\n",
    "    y_pred=model.predict(X_test)\n",
    "    test_results=test_results.append(pd.DataFrame({\n",
    "        'params': [param],\n",
    "        'train mean accuracy': [results_sorted.iloc[index, 2]],\n",
    "        'test accuracy': [accuracy_score(y_test, y_pred)]\n",
    "        }, index=[index]))\n",
    "    index+=1\n",
    "test_results.sort_values(by=['test accuracy'], ascending=False).head()"
   ]
  },
  {
   "cell_type": "code",
   "execution_count": 261,
   "id": "5ae53a5a",
   "metadata": {},
   "outputs": [
    {
     "name": "stdout",
     "output_type": "stream",
     "text": [
      "              precision    recall  f1-score   support\n",
      "\n",
      "           0       0.98      0.98      0.98       485\n",
      "           1       0.98      0.98      0.98       477\n",
      "\n",
      "    accuracy                           0.98       962\n",
      "   macro avg       0.98      0.98      0.98       962\n",
      "weighted avg       0.98      0.98      0.98       962\n",
      "\n",
      "ROC AUC score: 0.98\n"
     ]
    }
   ],
   "source": [
    "#####################################################\n",
    "# Display the best model\n",
    "#####################################################\n",
    "xgb_params=(100, 10, 3, 1)\n",
    "learning_rate, n_estimators, max_depth, subsample=xgb_params\n",
    "model=xgb.XGBClassifier(objective='binary:logistic', \n",
    "                                learning_rate=learning_rate,\n",
    "                                n_estimators=n_estimators,\n",
    "                                max_depth=max_depth,\n",
    "                                subsample=subsample,\n",
    "                                verbosity=0)\n",
    "model.fit(X_train, y_train)\n",
    "y_pred=model.predict(X_test)\n",
    "y_pred_prob=model.predict_proba(X_test)[:, 1]\n",
    "print(classification_report(y_test, y_pred))\n",
    "print('ROC AUC score: {:.2f}'.format(roc_auc_score(y_test, y_pred_prob)))"
   ]
  },
  {
   "cell_type": "code",
   "execution_count": 263,
   "id": "9fa53114",
   "metadata": {},
   "outputs": [
    {
     "data": {
      "text/html": [
       "<div>\n",
       "<style scoped>\n",
       "    .dataframe tbody tr th:only-of-type {\n",
       "        vertical-align: middle;\n",
       "    }\n",
       "\n",
       "    .dataframe tbody tr th {\n",
       "        vertical-align: top;\n",
       "    }\n",
       "\n",
       "    .dataframe thead th {\n",
       "        text-align: right;\n",
       "    }\n",
       "</style>\n",
       "<table border=\"1\" class=\"dataframe\">\n",
       "  <thead>\n",
       "    <tr style=\"text-align: right;\">\n",
       "      <th></th>\n",
       "      <th>True Positive</th>\n",
       "      <th>False Negative</th>\n",
       "      <th>False Positive</th>\n",
       "      <th>True Negative</th>\n",
       "    </tr>\n",
       "  </thead>\n",
       "  <tbody>\n",
       "    <tr>\n",
       "      <th>Count</th>\n",
       "      <td>467</td>\n",
       "      <td>10</td>\n",
       "      <td>10</td>\n",
       "      <td>475</td>\n",
       "    </tr>\n",
       "  </tbody>\n",
       "</table>\n",
       "</div>"
      ],
      "text/plain": [
       "       True Positive  False Negative  False Positive  True Negative\n",
       "Count            467              10              10            475"
      ]
     },
     "execution_count": 263,
     "metadata": {},
     "output_type": "execute_result"
    }
   ],
   "source": [
    "cm=confusion_matrix(y_test, y_pred)\n",
    "pd.DataFrame({' ': ['True Positive', 'False Negative', 'False Positive', 'True Negative'],\n",
    "             'Count': [cm[1, 1], cm[1, 0], cm[0, 1], cm[0, 0]]}).set_index(' ').T"
   ]
  },
  {
   "cell_type": "code",
   "execution_count": 264,
   "id": "4e284028",
   "metadata": {},
   "outputs": [
    {
     "data": {
      "image/png": "[encoded data removed]",
      "text/plain": [
       "<Figure size 576x432 with 1 Axes>"
      ]
     },
     "metadata": {
      "needs_background": "light"
     },
     "output_type": "display_data"
    }
   ],
   "source": [
    "########################################\n",
    "# Plot ROC curve\n",
    "########################################\n",
    "fig, ax=plt.subplots(1, 1, figsize=(8, 6))\n",
    "fpr, tpr, thresholds=roc_curve(y_test, y_pred_prob)\n",
    "_=ax.plot([0, 1], [0, 1], 'k--')\n",
    "_=ax.plot(fpr, tpr)\n",
    "_=ax.set_xlabel('False Positive Rate')\n",
    "_=ax.set_ylabel('True Positive Rate')\n",
    "_=ax.set_title('ROC curve')\n",
    "plt.show()"
   ]
  },
  {
   "cell_type": "code",
   "execution_count": 265,
   "id": "f4bb3533",
   "metadata": {},
   "outputs": [
    {
     "data": {
      "image/png": "[encoded data removed]",
      "text/plain": [
       "<Figure size 432x288 with 1 Axes>"
      ]
     },
     "metadata": {
      "needs_background": "light"
     },
     "output_type": "display_data"
    }
   ],
   "source": [
    "##########################################\n",
    "# Feature importance\n",
    "##########################################\n",
    "pd.Series(model.feature_importances_, index=X_train.columns).sort_values(ascending=False)[:20].plot(kind='bar')\n",
    "_=plt.xlabel('Features')\n",
    "_=plt.ylabel('Importances')\n",
    "_=plt.title('Feature importances')\n",
    "plt.show()"
   ]
  },
  {
   "cell_type": "markdown",
   "id": "a321a13a",
   "metadata": {},
   "source": [
    "### 3. Conclusion"
   ]
  },
  {
   "cell_type": "markdown",
   "id": "adjustable-publicity",
   "metadata": {},
   "source": [
    "It seems that the number of login of a user is the most effective factor to predict future user adoption, followed by the history of the user activity. I also investigated if some organizations or inviters are better to keep users adopted, but these factors are not signifcant (still, the users invited by user 7291, 7255, and 7266 are more likely to be adopted users). Further data including other activities of users besides login information, such as expenses of the users, would possibily be helpful for the prediction."
   ]
  }
 ],
 "metadata": {
  "kernelspec": {
   "display_name": "Python 3",
   "language": "python",
   "name": "python3"
  },
  "language_info": {
   "codemirror_mode": {
    "name": "ipython",
    "version": 3
   },
   "file_extension": ".py",
   "mimetype": "text/x-python",
   "name": "python",
   "nbconvert_exporter": "python",
   "pygments_lexer": "ipython3",
   "version": "3.9.1"
  }
 },
 "nbformat": 4,
 "nbformat_minor": 5
}
